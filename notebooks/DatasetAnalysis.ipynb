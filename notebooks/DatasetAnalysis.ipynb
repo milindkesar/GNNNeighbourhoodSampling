{
 "cells": [
  {
   "cell_type": "code",
   "execution_count": 109,
   "metadata": {},
   "outputs": [],
   "source": [
    "import numpy as np\n",
    "import matplotlib.pyplot as plt\n",
    "from graphsage.utils2 import load_cora, load_ppi, load_wikics, custom_load_pubmed"
   ]
  },
  {
   "cell_type": "code",
   "execution_count": 3,
   "metadata": {},
   "outputs": [],
   "source": [
    "# import sys\n",
    "# import os\n",
    "  \n",
    "# # getting the name of the directory\n",
    "# # where the this file is present.\n",
    "# current = os.path.dirname(os.path.realpath(\"DatasetAnalysis.ipynb\"))\n",
    "  \n",
    "# # Getting the parent directory name\n",
    "# # where the current directory is present.\n",
    "# parent = os.path.dirname(current)\n",
    "  \n",
    "# # adding the parent directory to \n",
    "# # the sys.path.\n",
    "# #sys.path.append(parent)\n",
    "# # print(parent)"
   ]
  },
  {
   "cell_type": "code",
   "execution_count": 121,
   "metadata": {},
   "outputs": [
    {
     "data": {
      "text/plain": [
       "array([ 996, 1140, 1145, ..., 1096,  235, 1061])"
      ]
     },
     "execution_count": 121,
     "metadata": {},
     "output_type": "execute_result"
    }
   ],
   "source": [
    "np.random.seed(1)\n",
    "rand_indices = np.random.permutation(2708)\n",
    "rand_indices"
   ]
  },
  {
   "cell_type": "code",
   "execution_count": 5,
   "metadata": {},
   "outputs": [],
   "source": [
    "data_dic = load_cora({})"
   ]
  },
  {
   "cell_type": "code",
   "execution_count": 6,
   "metadata": {},
   "outputs": [
    {
     "data": {
      "text/plain": [
       "dict_keys(['feat_data', 'labels', 'adj_lists', 'train_mask', 'test_mask', 'val_mask', 'distances', 'cluster_labels', 'freq', 'dist_in_graph', 'centralityev', 'centralitybtw', 'centralityh', 'centralityd', 'lsh_neighbour_list'])"
      ]
     },
     "execution_count": 6,
     "metadata": {},
     "output_type": "execute_result"
    }
   ],
   "source": [
    "data_dic.keys()"
   ]
  },
  {
   "cell_type": "code",
   "execution_count": 10,
   "metadata": {},
   "outputs": [
    {
     "data": {
      "text/plain": [
       "(2708, 1433)"
      ]
     },
     "execution_count": 10,
     "metadata": {},
     "output_type": "execute_result"
    }
   ],
   "source": [
    "data_dic['feat_data'].shape"
   ]
  },
  {
   "cell_type": "code",
   "execution_count": 11,
   "metadata": {},
   "outputs": [
    {
     "data": {
      "text/plain": [
       "(2708, 1)"
      ]
     },
     "execution_count": 11,
     "metadata": {},
     "output_type": "execute_result"
    }
   ],
   "source": [
    "data_dic['labels'].shape"
   ]
  },
  {
   "cell_type": "code",
   "execution_count": 86,
   "metadata": {},
   "outputs": [],
   "source": [
    "def get_centroid(feat_data):\n",
    "    return feat_data.mean(axis=0)\n",
    "def get_mean_distance_from_centroid(points,distance_type='euclidean'):\n",
    "    distance_ = cdist(points,get_centroid(points).reshape(1,-1),metric=distance_type).mean(axis=0)[0]\n",
    "    return distance_\n",
    "def get_distance_to_other_centroids(points,centroids_mod,distance_type='euclidean',measure='nearest'):\n",
    "    dist_mat = cdist(points,centroids_mod,metric=distance_type)\n",
    "    if measure == 'nearest':\n",
    "        interdist = dist_mat.min(axis=1).mean()\n",
    "    elif measure == 'mean':\n",
    "        interdist = dist_mat.mean(axis=1).mean()\n",
    "    else:\n",
    "        print('specify correct measure')\n",
    "        return 0\n",
    "    return interdist"
   ]
  },
  {
   "cell_type": "code",
   "execution_count": 17,
   "metadata": {},
   "outputs": [
    {
     "data": {
      "text/plain": [
       "(20,)"
      ]
     },
     "execution_count": 17,
     "metadata": {},
     "output_type": "execute_result"
    }
   ],
   "source": [
    "sample_data = np.random.random((10,20))\n",
    "get_centroid(sample_data).shape"
   ]
  },
  {
   "cell_type": "code",
   "execution_count": 34,
   "metadata": {},
   "outputs": [
    {
     "data": {
      "text/plain": [
       "array([1.21868423])"
      ]
     },
     "execution_count": 34,
     "metadata": {},
     "output_type": "execute_result"
    }
   ],
   "source": [
    "from scipy.spatial.distance import cdist\n",
    "cdist(sample_data,get_centroid(sample_data).reshape(1,-1)).mean(axis=0)"
   ]
  },
  {
   "cell_type": "code",
   "execution_count": 25,
   "metadata": {},
   "outputs": [
    {
     "data": {
      "text/plain": [
       "1.1162463070332478"
      ]
     },
     "execution_count": 25,
     "metadata": {},
     "output_type": "execute_result"
    }
   ],
   "source": [
    "from scipy.spatial import distance\n",
    "distance.euclidean(sample_data[5],get_centroid(sample_data))"
   ]
  },
  {
   "cell_type": "code",
   "execution_count": 33,
   "metadata": {},
   "outputs": [
    {
     "data": {
      "text/plain": [
       "array([1.21868423])"
      ]
     },
     "execution_count": 33,
     "metadata": {},
     "output_type": "execute_result"
    }
   ],
   "source": [
    "get_mean_distance_from_centroid(sample_data)"
   ]
  },
  {
   "cell_type": "code",
   "execution_count": 35,
   "metadata": {},
   "outputs": [],
   "source": [
    "sample1=np.random.random((10,20))\n",
    "sample2=np.random.random((10,20))\n",
    "centroid1,centroid2 = get_centroid(sample1),get_centroid(sample2)"
   ]
  },
  {
   "cell_type": "code",
   "execution_count": 51,
   "metadata": {},
   "outputs": [
    {
     "data": {
      "text/plain": [
       "1.2709469765996286"
      ]
     },
     "execution_count": 51,
     "metadata": {},
     "output_type": "execute_result"
    }
   ],
   "source": [
    "cdist(sample1,np.array([centroid1,centroid2]),metric='euclidean').mean(axis=1).mean()"
   ]
  },
  {
   "cell_type": "code",
   "execution_count": 39,
   "metadata": {},
   "outputs": [
    {
     "data": {
      "text/plain": [
       "array([[1.50771416],\n",
       "       [1.22161472],\n",
       "       [1.39401183],\n",
       "       [1.31493144],\n",
       "       [1.44248919],\n",
       "       [1.19471073],\n",
       "       [1.44638972],\n",
       "       [1.31527031],\n",
       "       [1.02692004],\n",
       "       [1.42214245]])"
      ]
     },
     "execution_count": 39,
     "metadata": {},
     "output_type": "execute_result"
    }
   ],
   "source": [
    "cdist(sample1,centroid2.reshape(1,-1))"
   ]
  },
  {
   "cell_type": "code",
   "execution_count": 100,
   "metadata": {},
   "outputs": [
    {
     "data": {
      "text/plain": [
       "1.3647179032374468"
      ]
     },
     "execution_count": 100,
     "metadata": {},
     "output_type": "execute_result"
    }
   ],
   "source": [
    "get_distance_to_other_centroids(sample2,np.array([centroid1]),measure='nearest')"
   ]
  },
  {
   "cell_type": "code",
   "execution_count": 90,
   "metadata": {},
   "outputs": [
    {
     "name": "stdout",
     "output_type": "stream",
     "text": [
      "[1, 3]\n"
     ]
    },
    {
     "data": {
      "text/plain": [
       "array([0., 0., 0., 0., 0., 0., 0., 0., 0., 0.])"
      ]
     },
     "execution_count": 90,
     "metadata": {},
     "output_type": "execute_result"
    }
   ],
   "source": [
    "a=[1,2,3]\n",
    "a.pop(1)\n",
    "print(a)\n",
    "np.zeros(10)"
   ]
  },
  {
   "cell_type": "code",
   "execution_count": 60,
   "metadata": {},
   "outputs": [
    {
     "data": {
      "text/plain": [
       "[0, 1, 2, 3, 4, 5, 6]"
      ]
     },
     "execution_count": 60,
     "metadata": {},
     "output_type": "execute_result"
    }
   ],
   "source": [
    "sorted(list(np.unique(data_dic['labels'])))"
   ]
  },
  {
   "cell_type": "code",
   "execution_count": 107,
   "metadata": {},
   "outputs": [],
   "source": [
    "def get_ratio(list1,list2):\n",
    "    temp=[]\n",
    "    for i in range(len(list1)):\n",
    "        temp.append(list1[i]/list2[i])\n",
    "    return temp\n",
    "#get_ratio(mean_distance_owncentroid,mean_distance_othercentroid)"
   ]
  },
  {
   "cell_type": "code",
   "execution_count": 125,
   "metadata": {},
   "outputs": [],
   "source": [
    "def give_distance_statistics(feat_data, labels, measure='nearest',distance_type='euclidean'):\n",
    "    feat_data = np.array(data_dic['feat_data'])\n",
    "    labels = np.array(data_dic['labels'])\n",
    "    mean_distance_owncentroid = []\n",
    "    mean_distance_othercentroid = []\n",
    "    centroids = []\n",
    "    for i in sorted(list(np.unique(labels))):\n",
    "        centroids.append(get_centroid(feat_data[(labels == i).reshape(-1,)]).tolist())\n",
    "    for i in sorted(list(np.unique(labels))):\n",
    "        temp = centroids.copy()\n",
    "        temp.pop(i)\n",
    "        mean_distance_owncentroid.append(get_mean_distance_from_centroid(feat_data[(labels == i).reshape(-1,)],distance_type=distance_type))\n",
    "        mean_distance_othercentroid.append(get_distance_to_other_centroids(feat_data[(labels == i).reshape(-1,)],temp,distance_type=distance_type,measure=measure))\n",
    "        if i == 8:\n",
    "            print(mean_distance_othercentroid)\n",
    "    return get_ratio(mean_distance_owncentroid,mean_distance_othercentroid)"
   ]
  },
  {
   "cell_type": "code",
   "execution_count": null,
   "metadata": {},
   "outputs": [],
   "source": []
  },
  {
   "cell_type": "code",
   "execution_count": 75,
   "metadata": {},
   "outputs": [
    {
     "data": {
      "text/plain": [
       "(818, 1433)"
      ]
     },
     "execution_count": 75,
     "metadata": {},
     "output_type": "execute_result"
    }
   ],
   "source": [
    "feat_data[(labels == 0).reshape(-1,)].shape"
   ]
  },
  {
   "cell_type": "code",
   "execution_count": 76,
   "metadata": {},
   "outputs": [
    {
     "data": {
      "text/plain": [
       "818"
      ]
     },
     "execution_count": 76,
     "metadata": {},
     "output_type": "execute_result"
    }
   ],
   "source": [
    "(labels == 0).reshape(-1,).sum()"
   ]
  },
  {
   "cell_type": "code",
   "execution_count": 102,
   "metadata": {},
   "outputs": [
    {
     "data": {
      "text/plain": [
       "[3.9880151440213134,\n",
       " 4.108184312386862,\n",
       " 4.071730872232723,\n",
       " 4.060509463212485,\n",
       " 4.042021659329825,\n",
       " 3.9244409164180585,\n",
       " 4.067456678249878]"
      ]
     },
     "execution_count": 102,
     "metadata": {},
     "output_type": "execute_result"
    }
   ],
   "source": [
    "mean_distance_owncentroid"
   ]
  },
  {
   "cell_type": "code",
   "execution_count": 103,
   "metadata": {},
   "outputs": [
    {
     "data": {
      "text/plain": [
       "[4.035900361897457,\n",
       " 4.166184735701382,\n",
       " 4.146997789248885,\n",
       " 4.11969111078311,\n",
       " 4.087108511146307,\n",
       " 4.015141303057532,\n",
       " 4.1391663917048485]"
      ]
     },
     "execution_count": 103,
     "metadata": {},
     "output_type": "execute_result"
    }
   ],
   "source": [
    "mean_distance_othercentroid"
   ]
  },
  {
   "cell_type": "markdown",
   "metadata": {},
   "source": [
    "### Cora"
   ]
  },
  {
   "cell_type": "code",
   "execution_count": 110,
   "metadata": {},
   "outputs": [],
   "source": [
    "data_dic = load_cora(lsh_helper={})"
   ]
  },
  {
   "cell_type": "code",
   "execution_count": 113,
   "metadata": {},
   "outputs": [
    {
     "name": "stdout",
     "output_type": "stream",
     "text": [
      "0\n",
      "1\n",
      "2\n",
      "3\n",
      "4\n",
      "5\n",
      "6\n",
      "[0.9881351833340032, 0.9860782881715504, 0.9818502635300912, 0.9856344454039965, 0.988968520974297, 0.9774104122885028, 0.9826753247710261]\n"
     ]
    }
   ],
   "source": [
    "print(give_distance_statistics(data_dic['feat_data'],data_dic['labels']))"
   ]
  },
  {
   "cell_type": "code",
   "execution_count": 114,
   "metadata": {},
   "outputs": [
    {
     "name": "stdout",
     "output_type": "stream",
     "text": [
      "0\n",
      "1\n",
      "2\n",
      "3\n",
      "4\n",
      "5\n",
      "6\n",
      "[0.9692983317758183, 0.9683800747977145, 0.9633841548617899, 0.9663594993491936, 0.972334162186959, 0.9601267087329962, 0.967542561617903]\n"
     ]
    }
   ],
   "source": [
    "print(give_distance_statistics(data_dic['feat_data'],data_dic['labels'],measure='mean'))"
   ]
  },
  {
   "cell_type": "code",
   "execution_count": 115,
   "metadata": {},
   "outputs": [
    {
     "name": "stdout",
     "output_type": "stream",
     "text": [
      "0\n",
      "1\n",
      "2\n",
      "3\n",
      "4\n",
      "5\n",
      "6\n",
      "[0.8937097653366343, 0.8704860321659481, 0.848904939208603, 0.8798365281305003, 0.8898270789309762, 0.8487707097839141, 0.8703702645561137]\n"
     ]
    }
   ],
   "source": [
    "print(give_distance_statistics(data_dic['feat_data'],data_dic['labels'],measure='mean',distance_type='cosine'))"
   ]
  },
  {
   "cell_type": "code",
   "execution_count": 116,
   "metadata": {},
   "outputs": [
    {
     "name": "stdout",
     "output_type": "stream",
     "text": [
      "0\n",
      "1\n",
      "2\n",
      "3\n",
      "4\n",
      "5\n",
      "6\n",
      "[0.9536853496383274, 0.9380107860359165, 0.9244451449036671, 0.9387265683905869, 0.9550732841329769, 0.9075683141726592, 0.923312263347089]\n"
     ]
    }
   ],
   "source": [
    "print(give_distance_statistics(data_dic['feat_data'],data_dic['labels'],measure='nearest',distance_type='cosine'))"
   ]
  },
  {
   "cell_type": "markdown",
   "metadata": {},
   "source": [
    "## WikiCS"
   ]
  },
  {
   "cell_type": "code",
   "execution_count": 123,
   "metadata": {},
   "outputs": [
    {
     "name": "stdout",
     "output_type": "stream",
     "text": [
      "Loading WikiCS\n",
      "loading dataframe of\n",
      "Loading normal random walks\n",
      "loading khop neighbours\n"
     ]
    }
   ],
   "source": [
    "data_dic = load_wikics(lsh_helper={})"
   ]
  },
  {
   "cell_type": "code",
   "execution_count": 126,
   "metadata": {},
   "outputs": [
    {
     "name": "stdout",
     "output_type": "stream",
     "text": [
      "[1.283969808161322, 1.282474237865921, 1.1821322283371603, 1.3267944629062163, 1.2518883415848734, 1.2694322883897027, 1.2282115901627089, 1.1882865666530333, 1.226803136828503]\n",
      "[0.8828396447395558, 0.9988908937437361, 1.0130244160135158, 0.9377665672085207, 0.9919740757645626, 0.9192803341002034, 0.8780083788814119, 0.9702896024873485, 1.000099628138771, 0.9634512160207751]\n",
      "[1.5272010746458093, 1.4913604673648104, 1.4061397249453949, 1.5348433766507712, 1.4727224957939533, 1.4385205816738629, 1.4424372584743985, 1.410394836939244, 1.4464607065447967]\n",
      "[0.7422332711207326, 0.858982027281967, 0.8516428268239928, 0.8106517627784886, 0.8432279564892518, 0.8112251941717733, 0.7476096869146847, 0.8174888833973342, 0.8482258490605364, 0.8203066469827547]\n",
      "[0.16402085037121006, 0.14064909445721105, 0.13626012863638032, 0.17594823406835172, 0.14340024727573722, 0.13600415767826182, 0.13110873601035836, 0.1325272108756037, nan]\n",
      "[0.5510849901947928, 0.7314336042691885, 0.7216309161667189, 0.6784065341641592, 0.7010153742495544, 0.6547368591064942, 0.5462075555105952, 0.6486538061943908, nan, 0.6791647297714538]\n",
      "[0.1163739391138694, 0.10215283875945283, 0.0963601821734933, 0.1345837729843015, 0.10254991170869737, 0.10519949403310239, 0.09190990818328333, 0.09221856533067309, nan]\n",
      "[0.7767153832450043, 1.0070740602547936, 1.0204372723977118, 0.8869154803717532, 0.9802619654810866, 0.846457826077279, 0.7791606326000743, 0.9321797563271588, nan, 0.943666110046686]\n"
     ]
    }
   ],
   "source": [
    "print(give_distance_statistics(data_dic['feat_data'],data_dic['labels']))\n",
    "\n",
    "print(give_distance_statistics(data_dic['feat_data'],data_dic['labels'],measure='mean'))\n",
    "\n",
    "print(give_distance_statistics(data_dic['feat_data'],data_dic['labels'],measure='mean',distance_type='cosine'))\n",
    "\n",
    "print(give_distance_statistics(data_dic['feat_data'],data_dic['labels'],measure='nearest',distance_type='cosine'))"
   ]
  },
  {
   "cell_type": "markdown",
   "metadata": {},
   "source": [
    "## Pubmed"
   ]
  },
  {
   "cell_type": "code",
   "execution_count": 119,
   "metadata": {},
   "outputs": [],
   "source": [
    "data_dic = custom_load_pubmed(lsh_helper={})"
   ]
  },
  {
   "cell_type": "code",
   "execution_count": 120,
   "metadata": {},
   "outputs": [
    {
     "name": "stdout",
     "output_type": "stream",
     "text": [
      "0\n",
      "1\n",
      "2\n",
      "[0.9665461569992628, 0.9908422105892141, 0.9781508772120524]\n",
      "0\n",
      "1\n",
      "2\n",
      "[0.9605801211430621, 0.97169988168909, 0.9582733954288206]\n",
      "0\n",
      "1\n",
      "2\n",
      "[0.828178198162361, 0.8966486642092393, 0.868239573981817]\n",
      "0\n",
      "1\n",
      "2\n",
      "[0.8522521899657841, 0.9572069469908958, 0.9153486606916252]\n"
     ]
    }
   ],
   "source": [
    "print(give_distance_statistics(data_dic['feat_data'],data_dic['labels']))\n",
    "\n",
    "print(give_distance_statistics(data_dic['feat_data'],data_dic['labels'],measure='mean'))\n",
    "\n",
    "print(give_distance_statistics(data_dic['feat_data'],data_dic['labels'],measure='mean',distance_type='cosine'))\n",
    "\n",
    "print(give_distance_statistics(data_dic['feat_data'],data_dic['labels'],measure='nearest',distance_type='cosine'))"
   ]
  },
  {
   "cell_type": "code",
   "execution_count": null,
   "metadata": {},
   "outputs": [],
   "source": []
  }
 ],
 "metadata": {
  "kernelspec": {
   "display_name": "Python 3",
   "language": "python",
   "name": "python3"
  },
  "language_info": {
   "codemirror_mode": {
    "name": "ipython",
    "version": 3
   },
   "file_extension": ".py",
   "mimetype": "text/x-python",
   "name": "python",
   "nbconvert_exporter": "python",
   "pygments_lexer": "ipython3",
   "version": "3.6.5"
  }
 },
 "nbformat": 4,
 "nbformat_minor": 2
}
